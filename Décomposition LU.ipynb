{
 "cells": [
  {
   "cell_type": "markdown",
   "id": "c5f31a30-ddd7-43ac-b3c0-cb2104c5704d",
   "metadata": {},
   "source": [
    "# Factorisation LU"
   ]
  },
  {
   "cell_type": "markdown",
   "id": "7dca15e7-7918-4110-9285-8b577920d797",
   "metadata": {},
   "source": [
    "## Introduction"
   ]
  },
  {
   "cell_type": "markdown",
   "id": "fe428f79-5a3a-416b-8e9e-fcf3e1c35769",
   "metadata": {},
   "source": [
    "La décomposition $LU$ est une factorisation fondamentale en algèbre linéaire numérique qui exprime une matrice carrée $A$ comme produit d'une matrice triangulaire inférieure $L$ et d'une matrice triangulaire supérieure $U$ :\n",
    "\n",
    "$$\n",
    "A = LU.\n",
    "$$\n",
    "\n",
    "C'est un outil clé pour la résolution efficace de systèmes linéaires $Ax=b$, après factorisation, chaque résolution se réduit à deux substitutions triangulaires (avant et arrière), beaucoup moins coûteuses qu'une inversion complète.\n",
    "\n",
    "La factorisation $LU$ reflète formellement le procédé d'élimination de Gauss.\n",
    "\n",
    "Remarque importante : dans sa forme la plus simple (sans permutations), la factorisation $A=LU$ existe lorsque les pivots de Gauss rencontrés lors de l'élimination sont non nuls. Si un pivot est nul (ou numériquement trop petit), il faut recourir à une factorisation avec permutation (pivot partiel) sous la forme\n",
    "\n",
    "$$\n",
    "PA = LU,\n",
    "$$\n",
    "\n",
    "où $P$ est une matrice de permutation. Dans cette section, nous considérons d'abord le cas simple sans permutations."
   ]
  },
  {
   "cell_type": "markdown",
   "id": "e30c0999-060c-45f1-ad82-15c0e3f4b7f4",
   "metadata": {},
   "source": [
    "## Définition et propriété"
   ]
  },
  {
   "cell_type": "markdown",
   "id": "0f3360e6-5057-4440-8181-1233e7b90f73",
   "metadata": {},
   "source": [
    "### Définition"
   ]
  },
  {
   "cell_type": "markdown",
   "id": "81f9e1ff-bc53-4cb5-b918-b4639ccb6ceb",
   "metadata": {},
   "source": [
    "Soit $A \\in M_n(\\mathbb{R})$ une matrice carrée inversible.  \n",
    "On dit que $A$ admet une **décomposition LU** si elle peut s’écrire sous la forme :\n",
    "\n",
    "$$\n",
    "A = LU\n",
    "$$\n",
    "\n",
    "où :\n",
    "\n",
    "- $L$ est une matrice **triangulaire inférieure** avec des coefficients diagonaux égaux à $1$ ;\n",
    "- $U$ est une matrice **triangulaire supérieure**.\n",
    "\n",
    "Autrement dit, la décomposition LU sépare les opérations d’élimination de Gauss en deux étapes :  \n",
    "$L$ contient les multiplicateurs utilisés pour annuler les coefficients sous la diagonale, et $U$ contient les coefficients restants après l’élimination."
   ]
  },
  {
   "cell_type": "markdown",
   "id": "35ccdef9-4f8b-4111-9ad6-5b16a9557203",
   "metadata": {},
   "source": [
    "### Proposition "
   ]
  },
  {
   "cell_type": "markdown",
   "id": "5208fb7e-0f21-4844-918d-8b9e87b0b4e5",
   "metadata": {},
   "source": [
    "\n",
    "Soit une matrice  \n",
    "\n",
    "$$\n",
    "A = (a_{ij})_{1 \\le i,j \\le n}\n",
    "$$  \n",
    "\n",
    "d’ordre $n$ telle que toutes les sous-matrices diagonales d’ordre $k$, définies par \n",
    "\n",
    "$$\n",
    "\\Delta^k =\n",
    "\\begin{pmatrix}\n",
    "a_{11} & \\cdots & a_{1k} \\\\\n",
    "\\vdots & \\ddots & \\vdots \\\\\n",
    "a_{k1} & \\cdots & a_{kk}\n",
    "\\end{pmatrix},\n",
    "$$\n",
    "\n",
    "soient inversibles.  \n",
    "Il existe alors un unique couple de matrices $(L, U)$, avec $U$ triangulaire supérieure, et $L$ triangulaire inférieure ayant une diagonale de 1, tel que  \n",
    "\n",
    "$$\n",
    "A = LU.\n",
    "$$"
   ]
  },
  {
   "cell_type": "markdown",
   "id": "79c67a88-e85b-4c8b-8be2-120ffe315a9a",
   "metadata": {},
   "source": [
    "## Algorithme"
   ]
  },
  {
   "cell_type": "markdown",
   "id": "56c117ed-3aa5-4f49-9d54-2274689ad419",
   "metadata": {},
   "source": [
    "L’objectif est de déterminer deux matrices triangulaires $L$ et $U$ telles que :\n",
    "\n",
    "$$\n",
    "A = LU,\n",
    "$$\n",
    "\n",
    "où $L$ est triangulaire inférieure avec des $1$ sur la diagonale, et $U$ est triangulaire supérieure.\n",
    "\n",
    "L’algorithme utilisé repose sur le **principe de l’élimination de Gauss** sans pivot.\n"
   ]
  },
  {
   "cell_type": "markdown",
   "id": "e82165c7-ae22-4fb0-a0de-e14cf097dfd8",
   "metadata": {},
   "source": [
    "### Étapes de l’algorithme"
   ]
  },
  {
   "cell_type": "markdown",
   "id": "a1c7346d-2d89-46c0-80c9-24dae092cb9c",
   "metadata": {},
   "source": [
    "Soit $A = (a_{ij})$ une matrice carrée d’ordre $n$.\n",
    "\n",
    "1. **Initialisation :**\n",
    "   - On définit $L = I_n$ (matrice identité).\n",
    "   - On définit $U$ comme une matrice nulle de même dimension que $A$.\n",
    "\n",
    "2. **Pour chaque colonne $j = 0, 1, \\dots, n-1$ :**\n",
    "\n",
    "   - **Calcul des éléments de la ligne $j$ de $U$ :**\n",
    "\n",
    "     $$\n",
    "     U_{ij} = a_{ij} - \\sum_{k=0}^{i-1} L_{ik} U_{kj}, \\quad \\text{pour } i \\le j\n",
    "     $$\n",
    "\n",
    "   - **Calcul des éléments de la colonne $j$ de $L$ :**\n",
    "\n",
    "     $$\n",
    "     L_{ij} = \\frac{1}{U_{jj}} \\left(a_{ij} - \\sum_{k=0}^{j-1} L_{ik} U_{kj}\\right), \\quad \\text{pour } i > j\n",
    "     $$\n",
    "\n",
    "3. **À la fin de la procédure**, on obtient deux matrices $L$ et $U$ telles que $A = LU$.\n"
   ]
  },
  {
   "cell_type": "markdown",
   "id": "360ce162-6fbe-4878-9350-b5d33222136d",
   "metadata": {},
   "source": [
    "### Remarque"
   ]
  },
  {
   "cell_type": "markdown",
   "id": "fd510d51-565e-4848-ad7a-0f98e5b77b27",
   "metadata": {},
   "source": [
    "L’algorithme suppose que **tous les pivots $U_{jj}$ sont non nuls**.  \n",
    "S’il arrive qu’un pivot soit nul, la décomposition $LU$ ne peut pas être calculée sans **pivotement** (échange de lignes).  \n",
    "Ce cas correspond à la version généralisée de la décomposition : $PA = LU$, où $P$ est une matrice de permutation.\n",
    "\n"
   ]
  },
  {
   "cell_type": "markdown",
   "id": "d342a387-9d0a-4a4a-b01b-217406120b36",
   "metadata": {},
   "source": [
    "### Implémentation et vérification"
   ]
  },
  {
   "cell_type": "code",
   "execution_count": 11,
   "id": "6b113de6-e641-4bfd-9911-f26012d6bd3e",
   "metadata": {},
   "outputs": [],
   "source": [
    "import numpy as np\n",
    "from scipy.linalg import lu"
   ]
  },
  {
   "cell_type": "code",
   "execution_count": 25,
   "id": "e7d88e2f-11f5-4f5f-9ec4-64a6949b7a4b",
   "metadata": {},
   "outputs": [],
   "source": [
    "def LU_Factorization(A):\n",
    "    n = A.shape[0]\n",
    "    L=np.eye(n)\n",
    "    U=np.zeros((n,n))\n",
    "    for j in range(n):\n",
    "        for i in range(j+1):\n",
    "            somme = 0\n",
    "            for k in range(i):\n",
    "                somme+=L[i,k]*U[k,j]\n",
    "            U[i,j]=A[i,j] - somme\n",
    "        for i in range(j+1,n):\n",
    "            somme = 0\n",
    "            for k in range(j):\n",
    "                somme += L[i,k]*U[k,j]\n",
    "            L[i,j]=(A[i,j]-somme)/U[j,j]\n",
    "    return L,U"
   ]
  },
  {
   "cell_type": "code",
   "execution_count": 10,
   "id": "89069fec-94a1-4da5-84f0-03bec56be53a",
   "metadata": {},
   "outputs": [],
   "source": [
    "A = np.array([\n",
    "    [2, -1, -2],\n",
    "    [-4, 6, 3],\n",
    "    [-4, -2, 8]\n",
    "], dtype=float)"
   ]
  },
  {
   "cell_type": "code",
   "execution_count": 13,
   "id": "f3de446d-9871-4a48-bcde-0c2ec7de5fcc",
   "metadata": {},
   "outputs": [
    {
     "name": "stdout",
     "output_type": "stream",
     "text": [
      "A :\n",
      " [[ 2. -1. -2.]\n",
      " [-4.  6.  3.]\n",
      " [-4. -2.  8.]]\n",
      "\n",
      " décomposition LU :\n",
      "L_custom :\n",
      " [[ 1.  0.  0.]\n",
      " [-2.  1.  0.]\n",
      " [-2. -1.  1.]]\n",
      "U_custom :\n",
      " [[ 2. -1. -2.]\n",
      " [ 0.  4. -1.]\n",
      " [ 0.  0.  3.]]\n",
      "Vérif A ≈ L_custom @ U_custom : [[ 2. -1. -2.]\n",
      " [-4.  6.  3.]\n",
      " [-4. -2.  8.]]\n"
     ]
    }
   ],
   "source": [
    "L_custom, U_custom = LU_Factorization(A)\n",
    "\n",
    "\n",
    "print(\"A :\\n\", A)\n",
    "\n",
    "print(\"\\n décomposition LU :\")\n",
    "print(\"L_custom :\\n\", L_custom)\n",
    "print(\"U_custom :\\n\", U_custom)\n",
    "print(\"Vérif A ≈ L_custom @ U_custom :\",  L_custom @ U_custom)\n",
    "\n"
   ]
  },
  {
   "cell_type": "markdown",
   "id": "a630e0ec-41b5-447e-ae53-0b9e005a903d",
   "metadata": {},
   "source": [
    "## Application à la nésolution de l'équation linéaire Ax = b"
   ]
  },
  {
   "cell_type": "markdown",
   "id": "da4e6970-08df-4fbf-8c36-96a60930fcaa",
   "metadata": {},
   "source": [
    "Soit $A \\in M_n(\\mathbb{R})$ une matrice carrée inversible et $b \\in \\mathbb{R}^n$.  \n",
    "On souhaite résoudre le système :\n",
    "\n",
    "$$\n",
    "A x = b.\n",
    "$$\n"
   ]
  },
  {
   "cell_type": "markdown",
   "id": "8859d76f-94f6-464e-9829-cc41ac76a258",
   "metadata": {},
   "source": [
    "### Utilisation de la décomposition $LU$"
   ]
  },
  {
   "cell_type": "markdown",
   "id": "34edad69-5181-4abd-af4f-788d6c1433ac",
   "metadata": {},
   "source": [
    "Si $A$ admet une décomposition $A = LU$, alors :\n",
    "\n",
    "$$\n",
    "LU x = b.\n",
    "$$\n",
    "\n",
    "On pose :\n",
    "$$\n",
    "U x = y.\n",
    "$$\n",
    "\n",
    "Le système s’écrit alors sous la forme :\n",
    "\n",
    "$$\n",
    "L y = b \\quad \\text{(1)}\n",
    "$$\n",
    "$$\n",
    "U x = y \\quad \\text{(2)}\n",
    "$$\n",
    "\n",
    "On résout donc le système $Ax = b$ en deux étapes successives :  \n",
    "- une **substitution avant** pour résoudre $(1)$ ;  \n",
    "- une **substitution arrière** pour résoudre $(2)$."
   ]
  },
  {
   "cell_type": "markdown",
   "id": "e7191d3e-d13d-486f-a751-bf4564026721",
   "metadata": {},
   "source": [
    "### Substitution avant (résolution de $L y = b$)"
   ]
  },
  {
   "cell_type": "markdown",
   "id": "d08e418d-7394-4b57-9b50-7ec5c5087723",
   "metadata": {},
   "source": [
    "\n",
    "\n",
    "Comme $L$ est triangulaire inférieure avec des $1$ sur la diagonale, on peut calculer les composantes de $y$ successivement :\n",
    "\n",
    "$$\n",
    "y_i = b_i - \\sum_{k=0}^{i-1} L_{ik} y_k, \\quad \\text{pour } i = 0, 1, \\dots, n-1.\n",
    "$$\n"
   ]
  },
  {
   "cell_type": "markdown",
   "id": "78cbbe20-5f15-4649-a6a3-2aa0221aa7cd",
   "metadata": {},
   "source": [
    "### Substitution arrière (résolution de $U x = y$)"
   ]
  },
  {
   "cell_type": "markdown",
   "id": "34ec9a04-7c87-41b2-a967-1ea12c68c3f6",
   "metadata": {},
   "source": [
    "Puisque $U$ est triangulaire supérieure, on calcule les composantes de $x$ de bas en haut :\n",
    "\n",
    "$$\n",
    "x_i = \\frac{1}{U_{ii}} \\left( y_i - \\sum_{k=i+1}^{n-1} U_{ik} x_k \\right), \\quad \\text{pour } i = n-1, \\dots, 0.\n",
    "$$\n"
   ]
  },
  {
   "cell_type": "markdown",
   "id": "d99e49ea-a48e-4cca-9e56-db727cfbbd02",
   "metadata": {},
   "source": [
    "### Implémentation"
   ]
  },
  {
   "cell_type": "markdown",
   "id": "03f53cbb-cd60-491e-9c8a-a8e04dd7789a",
   "metadata": {},
   "source": [
    "#### Résolution de $L y = b$"
   ]
  },
  {
   "cell_type": "code",
   "execution_count": 15,
   "id": "88c03144-6a86-4071-9c64-e9ac37dac1dc",
   "metadata": {},
   "outputs": [],
   "source": [
    "def resolve_L(L,b):\n",
    "    n=L.shape[0]\n",
    "    y=np.zeros(n)\n",
    "    for i in range(n):\n",
    "        somme=0\n",
    "        for k in range(i):\n",
    "            somme+=L[i,k]*y[k]\n",
    "        y[i]=b[i]-somme\n",
    "    return y\n",
    "            \n",
    "            \n",
    "          \n",
    "    "
   ]
  },
  {
   "cell_type": "markdown",
   "id": "d9c2346b-16bf-4409-adb3-0afbad858dc5",
   "metadata": {},
   "source": [
    "#### Vérification"
   ]
  },
  {
   "cell_type": "code",
   "execution_count": 24,
   "id": "e35a0ca7-41b5-41bf-a2ea-4d3b7c48d9c6",
   "metadata": {},
   "outputs": [
    {
     "name": "stdout",
     "output_type": "stream",
     "text": [
      "y = [  5.  -4. -10.]\n",
      "Vérification Lx ≈ y : True\n"
     ]
    }
   ],
   "source": [
    "L = np.array([\n",
    "    [1, 0, 0],\n",
    "    [3, 1, 0],\n",
    "    [2, -1, 1]\n",
    "], dtype=float)\n",
    "\n",
    "b = np.array([5, 11, 4], dtype=float)\n",
    "\n",
    "y = resolve_L(L, b)\n",
    "print(\"y =\", y)\n",
    "print(\"Vérification Lx ≈ y :\", np.allclose(L @ y, b))  # doit être True"
   ]
  },
  {
   "cell_type": "markdown",
   "id": "3e1efbb5-a2ad-4638-8bab-91106f5d5ccc",
   "metadata": {},
   "source": [
    "#### Résolution de $U x = y$"
   ]
  },
  {
   "cell_type": "code",
   "execution_count": 21,
   "id": "5d5aea16-c7f2-4a4c-a424-a0f7c09ff46a",
   "metadata": {},
   "outputs": [],
   "source": [
    "def resolve_U(U,y):\n",
    "    n=U.shape[0]\n",
    "    x=np.zeros(n)\n",
    "    for i in range(n-1,-1,-1):\n",
    "        somme=0\n",
    "        for k in range(i+1,n):\n",
    "            somme+=U[i,k]*x[k]\n",
    "        x[i]=(y[i]-somme)/U[i,i]\n",
    "    return x\n",
    "    "
   ]
  },
  {
   "cell_type": "markdown",
   "id": "473f54a7-f299-4b3f-bd09-14446daba2aa",
   "metadata": {},
   "source": [
    "#### Vérification"
   ]
  },
  {
   "cell_type": "code",
   "execution_count": 22,
   "id": "7ff8d40a-6d58-4696-b713-38abd78833d7",
   "metadata": {},
   "outputs": [
    {
     "name": "stdout",
     "output_type": "stream",
     "text": [
      "x = [ 0.53333333 -0.2         2.        ]\n",
      "Vérification Ux ≈ y : True\n"
     ]
    }
   ],
   "source": [
    "U = np.array([\n",
    "    [3, -2, 1],\n",
    "    [0, 5, 2],\n",
    "    [0, 0, 4]\n",
    "], dtype=float)\n",
    "\n",
    "y = np.array([4, 3, 8], dtype=float)\n",
    "\n",
    "x = resolve_U(U, y)\n",
    "print(\"x =\", x)\n",
    "print(\"Vérification Ux ≈ y :\", np.allclose(U @ x, y))  # doit être True"
   ]
  },
  {
   "cell_type": "markdown",
   "id": "bed67e31-bac6-4c9c-8148-742dd45de583",
   "metadata": {},
   "source": [
    "#### Résolution $Ax = b$"
   ]
  },
  {
   "cell_type": "code",
   "execution_count": 27,
   "id": "2e55c4fd-a8c0-4ae9-987e-04b9a30e0f23",
   "metadata": {},
   "outputs": [],
   "source": [
    "def solve_LU(A,b):\n",
    "    L,U=LU_Factorization(A)\n",
    "    y=resolve_L(L,b)\n",
    "    x=resolve_U(U,y)\n",
    "    return x\n",
    "\n"
   ]
  },
  {
   "cell_type": "markdown",
   "id": "27e61015-c8a7-4d95-9b1a-f8a24c441620",
   "metadata": {},
   "source": [
    "#### Vérification"
   ]
  },
  {
   "cell_type": "code",
   "execution_count": 28,
   "id": "df93ae67-b245-40f7-a0cf-de0e097cc71f",
   "metadata": {},
   "outputs": [
    {
     "name": "stdout",
     "output_type": "stream",
     "text": [
      "x = [-1.875       0.91666667 -1.33333333]\n",
      "Vérification A·x ≈ b : True\n"
     ]
    }
   ],
   "source": [
    "A = np.array([\n",
    "    [2, -1, -2],\n",
    "    [-4, 6, 3],\n",
    "    [-4, -2, 8]\n",
    "], dtype=float)\n",
    "\n",
    "b = np.array([-2, 9, -5], dtype=float)\n",
    "\n",
    "x = solve_LU(A, b)\n",
    "\n",
    "print(\"x =\", x)\n",
    "print(\"Vérification A·x ≈ b :\", np.allclose(A @ x, b))  # doit être True"
   ]
  }
 ],
 "metadata": {
  "kernelspec": {
   "display_name": "Python [conda env:base] *",
   "language": "python",
   "name": "conda-base-py"
  },
  "language_info": {
   "codemirror_mode": {
    "name": "ipython",
    "version": 3
   },
   "file_extension": ".py",
   "mimetype": "text/x-python",
   "name": "python",
   "nbconvert_exporter": "python",
   "pygments_lexer": "ipython3",
   "version": "3.13.5"
  }
 },
 "nbformat": 4,
 "nbformat_minor": 5
}
